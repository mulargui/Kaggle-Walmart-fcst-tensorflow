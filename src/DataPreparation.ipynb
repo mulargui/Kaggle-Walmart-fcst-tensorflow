{
  "nbformat": 4,
  "nbformat_minor": 0,
  "metadata": {
    "colab": {
      "name": "DataPreparation.ipynb",
      "version": "0.3.2",
      "provenance": [],
      "collapsed_sections": [],
      "include_colab_link": true
    },
    "kernelspec": {
      "name": "python3",
      "display_name": "Python 3"
    }
  },
  "cells": [
    {
      "cell_type": "markdown",
      "metadata": {
        "id": "view-in-github",
        "colab_type": "text"
      },
      "source": [
        "<a href=\"https://colab.research.google.com/github/mulargui/Kaggle-Walmart-fcst-tensorflow/blob/master/src/DataPreparation.ipynb\" target=\"_parent\"><img src=\"https://colab.research.google.com/assets/colab-badge.svg\" alt=\"Open In Colab\"/></a>"
      ]
    },
    {
      "metadata": {
        "id": "X2JuvvtrsgL4",
        "colab_type": "code",
        "outputId": "851345f3-67d2-4ffd-bd2a-f4b068e3d2ab",
        "colab": {
          "base_uri": "https://localhost:8080/",
          "height": 35
        }
      },
      "cell_type": "code",
      "source": [
        "import pandas as pd\n",
        "\n",
        "print(pd.__version__)"
      ],
      "execution_count": 1,
      "outputs": [
        {
          "output_type": "stream",
          "text": [
            "0.22.0\n"
          ],
          "name": "stdout"
        }
      ]
    },
    {
      "metadata": {
        "id": "pMf4_4hzrVey",
        "colab_type": "code",
        "outputId": "382a762b-6006-4e24-ce3c-5fceca58b018",
        "colab": {
          "base_uri": "https://localhost:8080/",
          "height": 260
        }
      },
      "cell_type": "code",
      "source": [
        "#load data\n",
        "dftrain=pd.read_csv('https://raw.githubusercontent.com/mulargui/Kaggle-Walmart-fcst-tensorflow/master/kaggle/train.csv')\n",
        "dftest=pd.read_csv('https://raw.githubusercontent.com/mulargui/Kaggle-Walmart-fcst-tensorflow/master/kaggle/test.csv')\n",
        "\n",
        "print(dftrain.head())\n",
        "print(dftrain.shape[0])\n",
        "print(dftest.head())\n",
        "print(dftest.shape[0])"
      ],
      "execution_count": 2,
      "outputs": [
        {
          "output_type": "stream",
          "text": [
            "   Store  Dept        Date  Weekly_Sales  IsHoliday\n",
            "0      1     1  2010-02-05      24924.50      False\n",
            "1      1     1  2010-02-12      46039.49       True\n",
            "2      1     1  2010-02-19      41595.55      False\n",
            "3      1     1  2010-02-26      19403.54      False\n",
            "4      1     1  2010-03-05      21827.90      False\n",
            "421570\n",
            "   Store  Dept        Date  IsHoliday\n",
            "0      1     1  2012-11-02      False\n",
            "1      1     1  2012-11-09      False\n",
            "2      1     1  2012-11-16      False\n",
            "3      1     1  2012-11-23       True\n",
            "4      1     1  2012-11-30      False\n",
            "115064\n"
          ],
          "name": "stdout"
        }
      ]
    },
    {
      "metadata": {
        "id": "A5YBX6pXt6Jp",
        "colab_type": "code",
        "outputId": "d394014d-71f1-4d83-d5a3-9adf9ada3561",
        "colab": {
          "base_uri": "https://localhost:8080/",
          "height": 260
        }
      },
      "cell_type": "code",
      "source": [
        "#Add Seasonality Column based on Date\n",
        "dftrain['Seasonality'] = pd.to_datetime(dftrain['Date']).apply(lambda x: x.weekofyear)\n",
        "dftest['Seasonality'] = pd.to_datetime(dftest['Date']).apply(lambda x: x.weekofyear)\n",
        "\n",
        "print(dftrain.head())\n",
        "print(dftrain.shape[0])\n",
        "print(dftest.head())\n",
        "print(dftest.shape[0])"
      ],
      "execution_count": 3,
      "outputs": [
        {
          "output_type": "stream",
          "text": [
            "   Store  Dept        Date  Weekly_Sales  IsHoliday  Seasonality\n",
            "0      1     1  2010-02-05      24924.50      False            5\n",
            "1      1     1  2010-02-12      46039.49       True            6\n",
            "2      1     1  2010-02-19      41595.55      False            7\n",
            "3      1     1  2010-02-26      19403.54      False            8\n",
            "4      1     1  2010-03-05      21827.90      False            9\n",
            "421570\n",
            "   Store  Dept        Date  IsHoliday  Seasonality\n",
            "0      1     1  2012-11-02      False           44\n",
            "1      1     1  2012-11-09      False           45\n",
            "2      1     1  2012-11-16      False           46\n",
            "3      1     1  2012-11-23       True           47\n",
            "4      1     1  2012-11-30      False           48\n",
            "115064\n"
          ],
          "name": "stdout"
        }
      ]
    },
    {
      "metadata": {
        "id": "x3GRvsOpx3DT",
        "colab_type": "code",
        "outputId": "16d826e8-9745-4132-e08e-5773b66a982e",
        "colab": {
          "base_uri": "https://localhost:8080/",
          "height": 260
        }
      },
      "cell_type": "code",
      "source": [
        "#Add Year column\n",
        "dftrain['Year'] = pd.to_datetime(dftrain['Date']).apply(lambda x: x.year)\n",
        "dftest['Year'] = pd.to_datetime(dftest['Date']).apply(lambda x: x.year)\n",
        "\n",
        "print(dftrain.head())\n",
        "print(dftrain.shape[0])\n",
        "print(dftest.head())\n",
        "print(dftest.shape[0])"
      ],
      "execution_count": 4,
      "outputs": [
        {
          "output_type": "stream",
          "text": [
            "   Store  Dept        Date  Weekly_Sales  IsHoliday  Seasonality  Year\n",
            "0      1     1  2010-02-05      24924.50      False            5  2010\n",
            "1      1     1  2010-02-12      46039.49       True            6  2010\n",
            "2      1     1  2010-02-19      41595.55      False            7  2010\n",
            "3      1     1  2010-02-26      19403.54      False            8  2010\n",
            "4      1     1  2010-03-05      21827.90      False            9  2010\n",
            "421570\n",
            "   Store  Dept        Date  IsHoliday  Seasonality  Year\n",
            "0      1     1  2012-11-02      False           44  2012\n",
            "1      1     1  2012-11-09      False           45  2012\n",
            "2      1     1  2012-11-16      False           46  2012\n",
            "3      1     1  2012-11-23       True           47  2012\n",
            "4      1     1  2012-11-30      False           48  2012\n",
            "115064\n"
          ],
          "name": "stdout"
        }
      ]
    },
    {
      "metadata": {
        "id": "_WOjPYYhzgc1",
        "colab_type": "code",
        "outputId": "3575c4f2-d8e7-4df0-d0a7-40558c2465fd",
        "colab": {
          "base_uri": "https://localhost:8080/",
          "height": 139
        }
      },
      "cell_type": "code",
      "source": [
        "#adjust sales in weeks 47, 48 and 49 in 2011 to have same number of sale days in week 49 than in 2012\n",
        "#filter rows affected\n",
        "dfchristmas = dftrain[(dftrain.Year == 2011) & \\\n",
        "  ((dftrain.Seasonality == 47) | (dftrain.Seasonality == 48) | (dftrain.Seasonality == 49))]\n",
        "\n",
        "print(dfchristmas.head())\n",
        "print(dfchristmas.shape[0])"
      ],
      "execution_count": 5,
      "outputs": [
        {
          "output_type": "stream",
          "text": [
            "     Store  Dept        Date  Weekly_Sales  IsHoliday  Seasonality  Year\n",
            "94       1     1  2011-11-25      20911.25       True           47  2011\n",
            "95       1     1  2011-12-02      25293.49      False           48  2011\n",
            "96       1     1  2011-12-09      33305.92      False           49  2011\n",
            "237      1     2  2011-11-25      44259.59       True           47  2011\n",
            "238      1     2  2011-12-02      45928.14      False           48  2011\n",
            "9025\n"
          ],
          "name": "stdout"
        }
      ]
    },
    {
      "metadata": {
        "id": "Jo8-UjEH06Q4",
        "colab_type": "code",
        "outputId": "80e650e5-2400-4806-a21c-8371701ae109",
        "colab": {
          "base_uri": "https://localhost:8080/",
          "height": 139
        }
      },
      "cell_type": "code",
      "source": [
        "#adjust only those with all 3 weeks of sales\n",
        "dfchristmas = dfchristmas.groupby(['Store', 'Dept']).filter(lambda x: len(x) == 3 )\n",
        "\n",
        "print(dfchristmas.head())\n",
        "print(dfchristmas.shape[0])"
      ],
      "execution_count": 6,
      "outputs": [
        {
          "output_type": "stream",
          "text": [
            "     Store  Dept        Date  Weekly_Sales  IsHoliday  Seasonality  Year\n",
            "94       1     1  2011-11-25      20911.25       True           47  2011\n",
            "95       1     1  2011-12-02      25293.49      False           48  2011\n",
            "96       1     1  2011-12-09      33305.92      False           49  2011\n",
            "237      1     2  2011-11-25      44259.59       True           47  2011\n",
            "238      1     2  2011-12-02      45928.14      False           48  2011\n",
            "8793\n"
          ],
          "name": "stdout"
        }
      ]
    },
    {
      "metadata": {
        "id": "YZ2lDWnmIc6I",
        "colab_type": "code",
        "outputId": "d2e38065-88c8-40ed-9920-efea897fb7db",
        "colab": {
          "base_uri": "https://localhost:8080/",
          "height": 139
        }
      },
      "cell_type": "code",
      "source": [
        "#adjust sales in weeks 47, 48 and 49 in 2011\n",
        "dfgrouped = dfchristmas.groupby(['Store', 'Dept'])\n",
        "for name, group in dfgrouped:\n",
        "  inc_sales = group['Weekly_Sales'].sum() / 21\n",
        "  dftrain.loc[(dftrain.Store == name[0]) & (dftrain.Dept == name[1]) & \\\n",
        "    (dftrain.Year == 2011) & (dftrain.Seasonality == 47),'Weekly_Sales'] -= inc_sales\n",
        "  dftrain.loc[(dftrain.Store == name[0]) & (dftrain.Dept == name[1]) & \\\n",
        "    (dftrain.Year == 2011) & (dftrain.Seasonality == 48),'Weekly_Sales'] -= inc_sales\n",
        "  dftrain.loc[(dftrain.Store == name[0]) & (dftrain.Dept == name[1]) & \\\n",
        "    (dftrain.Year == 2011) & (dftrain.Seasonality == 49),'Weekly_Sales'] += (2*inc_sales)\n",
        "\n",
        "print(dftrain.head())\n",
        "print(dftrain.shape[0])"
      ],
      "execution_count": 7,
      "outputs": [
        {
          "output_type": "stream",
          "text": [
            "   Store  Dept        Date  Weekly_Sales  IsHoliday  Seasonality  Year\n",
            "0      1     1  2010-02-05      24924.50      False            5  2010\n",
            "1      1     1  2010-02-12      46039.49       True            6  2010\n",
            "2      1     1  2010-02-19      41595.55      False            7  2010\n",
            "3      1     1  2010-02-26      19403.54      False            8  2010\n",
            "4      1     1  2010-03-05      21827.90      False            9  2010\n",
            "421570\n"
          ],
          "name": "stdout"
        }
      ]
    },
    {
      "metadata": {
        "id": "cc2PQWE7RpZJ",
        "colab_type": "code",
        "outputId": "e36adb72-743b-4a32-ecab-b53b58ebb459",
        "colab": {
          "base_uri": "https://localhost:8080/",
          "height": 381
        }
      },
      "cell_type": "code",
      "source": [
        "#load features\n",
        "dfstores=pd.read_csv('https://raw.githubusercontent.com/mulargui/Kaggle-Walmart-fcst-tensorflow/master/kaggle/stores.csv')\n",
        "dffeatures=pd.read_csv('https://raw.githubusercontent.com/mulargui/Kaggle-Walmart-fcst-tensorflow/master/kaggle/features.csv')\n",
        "\n",
        "print(dfstores.head())\n",
        "print(dfstores.shape[0])\n",
        "print(dffeatures.head())\n",
        "print(dffeatures.shape[0])"
      ],
      "execution_count": 8,
      "outputs": [
        {
          "output_type": "stream",
          "text": [
            "   Store Type    Size\n",
            "0      1    A  151315\n",
            "1      2    A  202307\n",
            "2      3    B   37392\n",
            "3      4    A  205863\n",
            "4      5    B   34875\n",
            "45\n",
            "   Store        Date  Temperature  Fuel_Price  MarkDown1  MarkDown2  \\\n",
            "0      1  2010-02-05        42.31       2.572        NaN        NaN   \n",
            "1      1  2010-02-12        38.51       2.548        NaN        NaN   \n",
            "2      1  2010-02-19        39.93       2.514        NaN        NaN   \n",
            "3      1  2010-02-26        46.63       2.561        NaN        NaN   \n",
            "4      1  2010-03-05        46.50       2.625        NaN        NaN   \n",
            "\n",
            "   MarkDown3  MarkDown4  MarkDown5         CPI  Unemployment  IsHoliday  \n",
            "0        NaN        NaN        NaN  211.096358         8.106      False  \n",
            "1        NaN        NaN        NaN  211.242170         8.106       True  \n",
            "2        NaN        NaN        NaN  211.289143         8.106      False  \n",
            "3        NaN        NaN        NaN  211.319643         8.106      False  \n",
            "4        NaN        NaN        NaN  211.350143         8.106      False  \n",
            "8190\n"
          ],
          "name": "stdout"
        }
      ]
    },
    {
      "metadata": {
        "id": "ZYhIp2laSibk",
        "colab_type": "code",
        "outputId": "2862c692-3550-45ca-b156-ec9fe0e5708b",
        "colab": {
          "base_uri": "https://localhost:8080/",
          "height": 745
        }
      },
      "cell_type": "code",
      "source": [
        "#merge the features in the dataframes\n",
        "dftrain = pd.merge(dftrain, dfstores, on='Store', how='left')\n",
        "dftrain = pd.merge(dftrain, dffeatures, on=['Store', 'Date'], how='left')\n",
        "dftest = pd.merge(dftest, dfstores, on='Store', how='left')\n",
        "dftest = pd.merge(dftest, dffeatures, on=['Store', 'Date'], how='left')\n",
        "\n",
        "print(dftrain.head())\n",
        "print(dftrain.shape[0])\n",
        "print(dftest.head())\n",
        "print(dftest.shape[0])"
      ],
      "execution_count": 9,
      "outputs": [
        {
          "output_type": "stream",
          "text": [
            "   Store  Dept        Date  Weekly_Sales  IsHoliday_x  Seasonality  Year Type  \\\n",
            "0      1     1  2010-02-05      24924.50        False            5  2010    A   \n",
            "1      1     1  2010-02-12      46039.49         True            6  2010    A   \n",
            "2      1     1  2010-02-19      41595.55        False            7  2010    A   \n",
            "3      1     1  2010-02-26      19403.54        False            8  2010    A   \n",
            "4      1     1  2010-03-05      21827.90        False            9  2010    A   \n",
            "\n",
            "     Size  Temperature  Fuel_Price  MarkDown1  MarkDown2  MarkDown3  \\\n",
            "0  151315        42.31       2.572        NaN        NaN        NaN   \n",
            "1  151315        38.51       2.548        NaN        NaN        NaN   \n",
            "2  151315        39.93       2.514        NaN        NaN        NaN   \n",
            "3  151315        46.63       2.561        NaN        NaN        NaN   \n",
            "4  151315        46.50       2.625        NaN        NaN        NaN   \n",
            "\n",
            "   MarkDown4  MarkDown5         CPI  Unemployment  IsHoliday_y  \n",
            "0        NaN        NaN  211.096358         8.106        False  \n",
            "1        NaN        NaN  211.242170         8.106         True  \n",
            "2        NaN        NaN  211.289143         8.106        False  \n",
            "3        NaN        NaN  211.319643         8.106        False  \n",
            "4        NaN        NaN  211.350143         8.106        False  \n",
            "421570\n",
            "   Store  Dept        Date  IsHoliday_x  Seasonality  Year Type    Size  \\\n",
            "0      1     1  2012-11-02        False           44  2012    A  151315   \n",
            "1      1     1  2012-11-09        False           45  2012    A  151315   \n",
            "2      1     1  2012-11-16        False           46  2012    A  151315   \n",
            "3      1     1  2012-11-23         True           47  2012    A  151315   \n",
            "4      1     1  2012-11-30        False           48  2012    A  151315   \n",
            "\n",
            "   Temperature  Fuel_Price  MarkDown1  MarkDown2  MarkDown3  MarkDown4  \\\n",
            "0        55.32       3.386    6766.44    5147.70      50.82    3639.90   \n",
            "1        61.24       3.314   11421.32    3370.89      40.28    4646.79   \n",
            "2        52.92       3.252    9696.28     292.10     103.78    1133.15   \n",
            "3        56.23       3.211     883.59       4.17   74910.32     209.91   \n",
            "4        52.34       3.207    2460.03        NaN    3838.35     150.57   \n",
            "\n",
            "   MarkDown5         CPI  Unemployment  IsHoliday_y  \n",
            "0    2737.42  223.462779         6.573        False  \n",
            "1    6154.16  223.481307         6.573        False  \n",
            "2    6612.69  223.512911         6.573        False  \n",
            "3     303.32  223.561947         6.573         True  \n",
            "4    6966.34  223.610984         6.573        False  \n",
            "115064\n"
          ],
          "name": "stdout"
        }
      ]
    },
    {
      "metadata": {
        "id": "3SNfS5l_WEW4",
        "colab_type": "code",
        "colab": {}
      },
      "cell_type": "code",
      "source": [
        "#validate that IsHoliday is consistent in the dataframes\n",
        "for index, row in dftrain.iterrows():\n",
        "  if row['IsHoliday_x'] != row['IsHoliday_y']:\n",
        "    print(row)\n",
        "for index, row in dftest.iterrows():\n",
        "  if row['IsHoliday_x'] != row['IsHoliday_y']:\n",
        "    print(row)\n"
      ],
      "execution_count": 0,
      "outputs": []
    },
    {
      "metadata": {
        "id": "sHv62jtmXcOg",
        "colab_type": "code",
        "outputId": "da4b3137-cb1a-4783-d937-3595494f8990",
        "colab": {
          "base_uri": "https://localhost:8080/",
          "height": 745
        }
      },
      "cell_type": "code",
      "source": [
        "#IsHoliday is duplicated, remove one\n",
        "dftrain.drop(\"IsHoliday_y\", axis=1, inplace=True) \n",
        "dftest.drop(\"IsHoliday_y\", axis=1, inplace=True) \n",
        "\n",
        "print(dftrain.head())\n",
        "print(dftrain.shape[0])\n",
        "print(dftest.head())\n",
        "print(dftest.shape[0])"
      ],
      "execution_count": 11,
      "outputs": [
        {
          "output_type": "stream",
          "text": [
            "   Store  Dept        Date  Weekly_Sales  IsHoliday_x  Seasonality  Year Type  \\\n",
            "0      1     1  2010-02-05      24924.50        False            5  2010    A   \n",
            "1      1     1  2010-02-12      46039.49         True            6  2010    A   \n",
            "2      1     1  2010-02-19      41595.55        False            7  2010    A   \n",
            "3      1     1  2010-02-26      19403.54        False            8  2010    A   \n",
            "4      1     1  2010-03-05      21827.90        False            9  2010    A   \n",
            "\n",
            "     Size  Temperature  Fuel_Price  MarkDown1  MarkDown2  MarkDown3  \\\n",
            "0  151315        42.31       2.572        NaN        NaN        NaN   \n",
            "1  151315        38.51       2.548        NaN        NaN        NaN   \n",
            "2  151315        39.93       2.514        NaN        NaN        NaN   \n",
            "3  151315        46.63       2.561        NaN        NaN        NaN   \n",
            "4  151315        46.50       2.625        NaN        NaN        NaN   \n",
            "\n",
            "   MarkDown4  MarkDown5         CPI  Unemployment  \n",
            "0        NaN        NaN  211.096358         8.106  \n",
            "1        NaN        NaN  211.242170         8.106  \n",
            "2        NaN        NaN  211.289143         8.106  \n",
            "3        NaN        NaN  211.319643         8.106  \n",
            "4        NaN        NaN  211.350143         8.106  \n",
            "421570\n",
            "   Store  Dept        Date  IsHoliday_x  Seasonality  Year Type    Size  \\\n",
            "0      1     1  2012-11-02        False           44  2012    A  151315   \n",
            "1      1     1  2012-11-09        False           45  2012    A  151315   \n",
            "2      1     1  2012-11-16        False           46  2012    A  151315   \n",
            "3      1     1  2012-11-23         True           47  2012    A  151315   \n",
            "4      1     1  2012-11-30        False           48  2012    A  151315   \n",
            "\n",
            "   Temperature  Fuel_Price  MarkDown1  MarkDown2  MarkDown3  MarkDown4  \\\n",
            "0        55.32       3.386    6766.44    5147.70      50.82    3639.90   \n",
            "1        61.24       3.314   11421.32    3370.89      40.28    4646.79   \n",
            "2        52.92       3.252    9696.28     292.10     103.78    1133.15   \n",
            "3        56.23       3.211     883.59       4.17   74910.32     209.91   \n",
            "4        52.34       3.207    2460.03        NaN    3838.35     150.57   \n",
            "\n",
            "   MarkDown5         CPI  Unemployment  \n",
            "0    2737.42  223.462779         6.573  \n",
            "1    6154.16  223.481307         6.573  \n",
            "2    6612.69  223.512911         6.573  \n",
            "3     303.32  223.561947         6.573  \n",
            "4    6966.34  223.610984         6.573  \n",
            "115064\n"
          ],
          "name": "stdout"
        }
      ]
    },
    {
      "metadata": {
        "id": "-1z6beInOSkw",
        "colab_type": "code",
        "colab": {
          "base_uri": "https://localhost:8080/",
          "height": 104
        },
        "outputId": "a2193176-a948-4e2c-f3fc-2d084a2d98d3"
      },
      "cell_type": "code",
      "source": [
        "#Save the dataframes in csv files in Google Drive\n",
        "from google.colab import drive\n",
        "drive.mount('/content/drive/')\n",
        "!ls \"/content/drive/My Drive/\"\n",
        "dftrain.to_csv('/content/drive/My Drive/train.csv', na_rep='NA', index=False)\n",
        "dftest.to_csv('/content/drive/My Drive/test.csv', na_rep='NA',index=False)\n",
        "!ls \"/content/drive/My Drive/\""
      ],
      "execution_count": 15,
      "outputs": [
        {
          "output_type": "stream",
          "text": [
            "Drive already mounted at /content/drive/; to attempt to forcibly remount, call drive.mount(\"/content/drive/\", force_remount=True).\n",
            "'Colab Notebooks'\t       test.csv   'Training Evaluation Form.gform'\n",
            "'it works pretty well!.gdoc'   train.csv\n",
            "'Colab Notebooks'\t       test.csv   'Training Evaluation Form.gform'\n",
            "'it works pretty well!.gdoc'   train.csv\n"
          ],
          "name": "stdout"
        }
      ]
    },
    {
      "metadata": {
        "id": "4xZeIjzrY0b_",
        "colab_type": "code",
        "colab": {}
      },
      "cell_type": "code",
      "source": [
        "#Save the dataframes in csv files (locally in the VM)\n",
        "dftrain.to_csv('train.csv', na_rep='NA', index=False)\n",
        "dftest.to_csv('test.csv', na_rep='NA', index=False)"
      ],
      "execution_count": 0,
      "outputs": []
    },
    {
      "metadata": {
        "id": "iVJeHpPiMQIy",
        "colab_type": "code",
        "colab": {}
      },
      "cell_type": "code",
      "source": [
        "#Download the csv files\n",
        "from google.colab import files\n",
        "files.download('train.csv')\n",
        "files.download('test.csv')\n",
        "\n",
        "#added to github to the data folder\n",
        "\n",
        "#that's it for now!"
      ],
      "execution_count": 0,
      "outputs": []
    }
  ]
}